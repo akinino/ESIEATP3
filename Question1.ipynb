1)Qu'est ce qu'un service web?
Un service Web met à disposition un service via Internet. Il constitue ainsi une interface permettant à deux machines (ou applications) de communiquer.
2)Une API REST, qu'est-ce que c'est ?
