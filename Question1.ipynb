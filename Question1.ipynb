{
 "cells": [
  {
   "cell_type": "code",
   "execution_count": null,
   "metadata": {},
   "outputs": [],
   "source": [
    "Qu'est ce qu'un service web?\n",
    "Un Web Service est un protocole d'interface informatique qui permet d’échanger des données avec d’autres applications web.\n",
    "Reposant tous sur un ensemble de protocoles et de standards. \n",
    "ces dernières peuvent être construites dans des langages de programmation différents."
   ]
  },
  {
   "cell_type": "code",
   "execution_count": null,
   "metadata": {},
   "outputs": [],
   "source": [
    "2)Une API REST, qu'est-ce que c'est ?\n",
    "Une API REST est également connue sous le nom d'API RESTful c'est une interface de programmation d'application d'API ou API Web qui se conforme aux contraintes du style architectural REST et permet une interaction avec les services Web RESTful.\n",
    "elle utilise des requêtes HTTP pour accéder aux données et les utiliser. \n",
    "Ces données peuvent être utilisées pour les types de données GET, PUT, POST et DELETE, qui font référence à la lecture, la mise à jour, la création et la suppression d'opérations concernant les ressources."
   ]
  },
  {
   "cell_type": "code",
   "execution_count": null,
   "metadata": {},
   "outputs": [],
   "source": [
    "3)Qu'est ce qu'une FastAPI?\n",
    "FastAPI est un framework Web pour développer des API RESTful en Python. \n",
    "FastAPI structure le code pour éviter les erreurs humaines et la duplication de code. \n",
    "Le framework guide le développeur et reste strict sur les entrants/sortants des étapes successives du code : de la base de données au rendu HTTP"
   ]
  }
 ],
 "metadata": {
  "language_info": {
   "name": "python"
  },
  "orig_nbformat": 4
 },
 "nbformat": 4,
 "nbformat_minor": 2
}
